{
  "nbformat": 4,
  "nbformat_minor": 0,
  "metadata": {
    "colab": {
      "provenance": []
    },
    "kernelspec": {
      "name": "python3",
      "display_name": "Python 3"
    },
    "language_info": {
      "name": "python"
    }
  },
  "cells": [
    {
      "cell_type": "code",
      "execution_count": 5,
      "metadata": {
        "colab": {
          "base_uri": "https://localhost:8080/"
        },
        "id": "QyafHKEzz8bc",
        "outputId": "de3ed917-0c0a-428b-8212-8d7dab9b386a"
      },
      "outputs": [
        {
          "output_type": "stream",
          "name": "stdout",
          "text": [
            "What's your age? 25\n",
            "Please choose time_data unit: Months, Weeks, Days, Hours, Minutes, Seconds.\n",
            "Note: You can write the first letter or the full name of the time_data unit. m\n",
            "You lived for 300 Months\n"
          ]
        }
      ],
      "source": [
        "def calculate_livingtime(age, time_data):\n",
        "\n",
        "    days_in_year = 365.25\n",
        "    hours_in_day = 24\n",
        "    minutes_in_hour = 60\n",
        "    seconds_in_minute = 60\n",
        "    months_in_year = 12\n",
        "    weeks_in_year = 52.1775\n",
        "\n",
        "\n",
        "    total_days = age * days_in_year\n",
        "\n",
        "    if time_data in ['months', 'm']:\n",
        "\n",
        "        result = age * months_in_year\n",
        "        return f\"You lived for {result:.0f} Month{'s' if result != 1 else ''}\"\n",
        "\n",
        "    elif time_data in ['weeks', 'w']:\n",
        "\n",
        "        result = age * weeks_in_year\n",
        "        return f\"You lived for {result:.0f} Week{'s' if result != 1 else ''}\"\n",
        "\n",
        "    elif time_data in ['days', 'd']:\n",
        "\n",
        "        return f\"You lived for {total_days:.0f} Day{'s' if total_days != 1 else ''}\"\n",
        "\n",
        "    elif time_data in ['hours', 'h']:\n",
        "\n",
        "        result = total_days * hours_in_day\n",
        "        return f\"You lived for {result:.0f} Hour{'s' if result != 1 else ''}\"\n",
        "\n",
        "    elif time_data in ['minutes', 'min', 'm']:\n",
        "\n",
        "        result = total_days * hours_in_day * minutes_in_hour\n",
        "        return f\"You lived for {result:.0f} Minute{'s' if result != 1 else ''}\"\n",
        "\n",
        "    elif time_data in ['seconds', 'sec', 's']:\n",
        "\n",
        "        result = total_days * hours_in_day * minutes_in_hour * seconds_in_minute\n",
        "        return f\"You lived for {result:.0f} Second{'s' if result != 1 else ''}\"\n",
        "\n",
        "    else:\n",
        "        return \"Invalid time_data unit.\"\n",
        "\n",
        "def main():\n",
        "\n",
        "    age = int(input(\"What's your age? \"))\n",
        "    time_data = input(\"Please choose time_data unit: Months, Weeks, Days, Hours, Minutes, Seconds.\\nNote: You can write the first letter or the full name of the time_data unit. \").strip().lower()\n",
        "\n",
        "    result = calculate_livingtime(age, time_data)\n",
        "    print(result)\n",
        "\n",
        "if __name__ == \"__main__\":\n",
        "    main()\n"
      ]
    }
  ]
}